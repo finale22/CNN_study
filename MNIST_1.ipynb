{
  "nbformat": 4,
  "nbformat_minor": 0,
  "metadata": {
    "colab": {
      "provenance": [],
      "authorship_tag": "ABX9TyP4xEDHxwvX3Dm9g3fHtHcn",
      "include_colab_link": true
    },
    "kernelspec": {
      "name": "python3",
      "display_name": "Python 3"
    },
    "language_info": {
      "name": "python"
    }
  },
  "cells": [
    {
      "cell_type": "markdown",
      "metadata": {
        "id": "view-in-github",
        "colab_type": "text"
      },
      "source": [
        "<a href=\"https://colab.research.google.com/github/finale22/MNIST/blob/main/MNIST_1.ipynb\" target=\"_parent\"><img src=\"https://colab.research.google.com/assets/colab-badge.svg\" alt=\"Open In Colab\"/></a>"
      ]
    },
    {
      "cell_type": "markdown",
      "source": [
        "# 1. 데이터 불러오기"
      ],
      "metadata": {
        "id": "g0gPcgYfB8tW"
      }
    },
    {
      "cell_type": "code",
      "source": [
        "from tensorflow import keras"
      ],
      "metadata": {
        "id": "WtphH-k009-C"
      },
      "execution_count": null,
      "outputs": []
    },
    {
      "cell_type": "code",
      "source": [
        "(train_x, train_y), (test_x, test_y) = keras.datasets.mnist.load_data()"
      ],
      "metadata": {
        "id": "dpW7cDM1BLzm"
      },
      "execution_count": null,
      "outputs": []
    },
    {
      "cell_type": "code",
      "source": [
        "print(train_x.shape, train_y.shape, test_x.shape, test_y.shape)"
      ],
      "metadata": {
        "colab": {
          "base_uri": "https://localhost:8080/"
        },
        "id": "WJwDnlZEBkhT",
        "outputId": "7b054231-14bd-4ccd-e217-bd38448a1d87"
      },
      "execution_count": null,
      "outputs": [
        {
          "output_type": "stream",
          "name": "stdout",
          "text": [
            "(60000, 28, 28) (60000,) (10000, 28, 28) (10000,)\n"
          ]
        }
      ]
    },
    {
      "cell_type": "markdown",
      "source": [
        "# 2. MNIST 시각화"
      ],
      "metadata": {
        "id": "2zGL8s5zCBIK"
      }
    },
    {
      "cell_type": "code",
      "source": [
        "import random\n",
        "import matplotlib.pyplot as plt"
      ],
      "metadata": {
        "id": "oNPByfwKBpGO"
      },
      "execution_count": null,
      "outputs": []
    },
    {
      "cell_type": "code",
      "source": [
        "id = random.randrange(0, 10000)\n",
        "print(f\"{test_y[id]}\")\n",
        "plt.imshow(test_x[id])\n",
        "plt.show()"
      ],
      "metadata": {
        "colab": {
          "base_uri": "https://localhost:8080/",
          "height": 448
        },
        "id": "zv4GxE_-CLda",
        "outputId": "4df51d1b-3d3b-4d13-ec89-dd13d6603f79"
      },
      "execution_count": null,
      "outputs": [
        {
          "output_type": "stream",
          "name": "stdout",
          "text": [
            "1\n"
          ]
        },
        {
          "output_type": "display_data",
          "data": {
            "text/plain": [
              "<Figure size 640x480 with 1 Axes>"
            ],
            "image/png": "[encoded data removed]"
          },
          "metadata": {}
        }
      ]
    },
    {
      "cell_type": "markdown",
      "source": [
        "# 3. 이미지 데이터 전처리 (차원, 정규화)"
      ],
      "metadata": {
        "id": "hHeEaasUC5yT"
      }
    },
    {
      "cell_type": "code",
      "source": [
        "print(train_x.shape, test_x.shape)"
      ],
      "metadata": {
        "colab": {
          "base_uri": "https://localhost:8080/"
        },
        "id": "lOJhoSc6DgTB",
        "outputId": "ab08df07-8f15-43db-bfc0-428aaef542ff"
      },
      "execution_count": null,
      "outputs": [
        {
          "output_type": "stream",
          "name": "stdout",
          "text": [
            "(60000, 28, 28) (10000, 28, 28)\n"
          ]
        }
      ]
    },
    {
      "cell_type": "code",
      "source": [
        "train_x.shape[0]"
      ],
      "metadata": {
        "colab": {
          "base_uri": "https://localhost:8080/"
        },
        "id": "o30UdHsMD5YY",
        "outputId": "4d902df2-4a4a-48c2-f32e-b55c8e878469"
      },
      "execution_count": null,
      "outputs": [
        {
          "output_type": "execute_result",
          "data": {
            "text/plain": [
              "60000"
            ]
          },
          "metadata": {},
          "execution_count": 15
        }
      ]
    },
    {
      "cell_type": "code",
      "source": [
        "# CNN을 위해 이미지 데이터를 3D Tensor에서 4D Tensor로 변환 (RGB 값 추가)\n",
        "# (n개, h, w, rgb)\n",
        "\n",
        "train_n, h, w = train_x.shape\n",
        "test_n = test_x.shape[0]\n",
        "\n",
        "train_x = train_x.reshape(train_n, h, w, 1)\n",
        "test_x = test_x.reshape(test_n, h, w, 1)\n",
        "\n",
        "print(train_x.shape, test_x.shape)"
      ],
      "metadata": {
        "colab": {
          "base_uri": "https://localhost:8080/"
        },
        "id": "KyTdWNS_CjQZ",
        "outputId": "9099baa8-93f8-4259-91e5-9a70bd10c035"
      },
      "execution_count": null,
      "outputs": [
        {
          "output_type": "stream",
          "name": "stdout",
          "text": [
            "(60000, 28, 28, 1) (10000, 28, 28, 1)\n"
          ]
        }
      ]
    },
    {
      "cell_type": "code",
      "source": [
        "print(f\"max = {train_x.max()}, min = {train_x.min()}\")"
      ],
      "metadata": {
        "colab": {
          "base_uri": "https://localhost:8080/"
        },
        "id": "g9Ap6FeFEvlt",
        "outputId": "4579ed20-cd80-4ec2-df96-abeb6d7e132b"
      },
      "execution_count": null,
      "outputs": [
        {
          "output_type": "stream",
          "name": "stdout",
          "text": [
            "max = 255, min = 0\n"
          ]
        }
      ]
    },
    {
      "cell_type": "code",
      "source": [
        "# 이미지가 0 ~ 255 값으로 구성되어 있음\n",
        "# 0 ~ 1 범위로 정규화\n",
        "\n",
        "max_n, min_n = train_x.max(), train_x.min()\n",
        "train_x = (train_x - min_n) / (max_n - min_n)\n",
        "test_x = (test_x - min_n) / (max_n - min_n)\n",
        "\n",
        "print(f\"max = {train_x.max()}, min = {train_x.min()}\")"
      ],
      "metadata": {
        "colab": {
          "base_uri": "https://localhost:8080/"
        },
        "id": "o9ga-nb1EaJ9",
        "outputId": "f21697ae-79f6-42ef-8fdb-199cd71c4cd3"
      },
      "execution_count": null,
      "outputs": [
        {
          "output_type": "stream",
          "name": "stdout",
          "text": [
            "max = 1.0, min = 0.0\n"
          ]
        }
      ]
    },
    {
      "cell_type": "markdown",
      "source": [
        "# 4. 모델링"
      ],
      "metadata": {
        "id": "Fe7-SRM1Fddt"
      }
    },
    {
      "cell_type": "code",
      "source": [
        "from keras.backend import clear_session\n",
        "from keras.models import Sequential\n",
        "from keras.layers import Input, Conv2D, MaxPool2D, Flatten, Dense\n",
        "from keras.callbacks import EarlyStopping\n",
        "from keras.losses import sparse_categorical_crossentropy as scc"
      ],
      "metadata": {
        "id": "ZJF-2r2lEc96"
      },
      "execution_count": null,
      "outputs": []
    },
    {
      "cell_type": "code",
      "source": [
        "_, h, w, rgb = train_x.shape"
      ],
      "metadata": {
        "id": "H5tFVanYGsm7"
      },
      "execution_count": null,
      "outputs": []
    },
    {
      "cell_type": "code",
      "source": [
        "clear_session()\n",
        "\n",
        "model = Sequential()\n",
        "model.add(Input(shape=(h, w, rgb)))\n",
        "model.add(Conv2D(filters=64, kernel_size=(3, 3), strides=(1, 1), padding='same', activation='relu'))\n",
        "model.add(Conv2D(filters=64, kernel_size=(3, 3), strides=(1, 1), padding='same', activation='relu'))\n",
        "model.add(MaxPool2D(pool_size=(2, 2), strides=(2, 2)))\n",
        "model.add(Flatten())\n",
        "model.add(Dense(10, activation='softmax'))\n",
        "\n",
        "model.compile(loss=scc, metrics=['accuracy'], optimizer='adam')\n",
        "model.summary()"
      ],
      "metadata": {
        "colab": {
          "base_uri": "https://localhost:8080/"
        },
        "id": "RKdnTxwdFt13",
        "outputId": "88cae186-f6c8-4fe0-a720-66bfa2c4e632"
      },
      "execution_count": null,
      "outputs": [
        {
          "output_type": "stream",
          "name": "stdout",
          "text": [
            "Model: \"sequential\"\n",
            "_________________________________________________________________\n",
            " Layer (type)                Output Shape              Param #   \n",
            "=================================================================\n",
            " conv2d (Conv2D)             (None, 28, 28, 64)        640       \n",
            "                                                                 \n",
            " conv2d_1 (Conv2D)           (None, 28, 28, 64)        36928     \n",
            "                                                                 \n",
            " max_pooling2d (MaxPooling2  (None, 14, 14, 64)        0         \n",
            " D)                                                              \n",
            "                                                                 \n",
            " flatten (Flatten)           (None, 12544)             0         \n",
            "                                                                 \n",
            " dense (Dense)               (None, 10)                125450    \n",
            "                                                                 \n",
            "=================================================================\n",
            "Total params: 163018 (636.79 KB)\n",
            "Trainable params: 163018 (636.79 KB)\n",
            "Non-trainable params: 0 (0.00 Byte)\n",
            "_________________________________________________________________\n"
          ]
        }
      ]
    },
    {
      "cell_type": "code",
      "source": [
        "es = EarlyStopping(monitor='val_loss', patience=3, verbose=1, restore_best_weights=True)"
      ],
      "metadata": {
        "id": "YgXBRdLnIDjl"
      },
      "execution_count": null,
      "outputs": []
    },
    {
      "cell_type": "code",
      "source": [
        "hist = model.fit(train_x, train_y, validation_split=0.2, epochs=1, verbose=1, callbacks=[es])"
      ],
      "metadata": {
        "colab": {
          "base_uri": "https://localhost:8080/"
        },
        "id": "DIkbRDSEIe5Y",
        "outputId": "4093885b-3960-4317-aeae-467d5398c714"
      },
      "execution_count": null,
      "outputs": [
        {
          "output_type": "stream",
          "name": "stdout",
          "text": [
            "1500/1500 [==============================] - 271s 181ms/step - loss: 0.0359 - accuracy: 0.9885 - val_loss: 0.0468 - val_accuracy: 0.9864\n"
          ]
        }
      ]
    },
    {
      "cell_type": "markdown",
      "source": [
        "# 5. 평가"
      ],
      "metadata": {
        "id": "0R6ATyxnMckn"
      }
    },
    {
      "cell_type": "code",
      "source": [
        "performance_test = model.evaluate(test_x, test_y, batch_size=10)\n",
        "print(f\"test loss = {performance_test[0]:.6f}, test accuracy = {performance_test[1]:.2f}\")"
      ],
      "metadata": {
        "colab": {
          "base_uri": "https://localhost:8080/"
        },
        "id": "BUqnh473It58",
        "outputId": "16a4ad51-49e5-4be8-b0ea-5e44bc13d222"
      },
      "execution_count": null,
      "outputs": [
        {
          "output_type": "stream",
          "name": "stdout",
          "text": [
            "1000/1000 [==============================] - 17s 17ms/step - loss: 0.0370 - accuracy: 0.9880\n",
            "test loss = 0.037038, test accuracy = 0.99\n"
          ]
        }
      ]
    },
    {
      "cell_type": "code",
      "source": [
        "history = hist.history\n",
        "plt.figure(figsize=(10, 5))\n",
        "plt.plot(history['accuracy'])\n",
        "plt.plot(history['val_accuracy'])\n",
        "plt.title('Accuracy : Training vs Validation')\n",
        "plt.ylabel('Accuracy')\n",
        "plt.xlabel('Epochs')\n",
        "plt.legend(['Training', 'Validation'], loc=0)\n",
        "plt.show()"
      ],
      "metadata": {
        "colab": {
          "base_uri": "https://localhost:8080/",
          "height": 364
        },
        "id": "4pOOgP8qJW3f",
        "outputId": "a58fd620-d7a5-44fd-b8e1-0f6c4b58aaad"
      },
      "execution_count": null,
      "outputs": [
        {
          "output_type": "display_data",
          "data": {
            "text/plain": [
              "<Figure size 1000x500 with 1 Axes>"
            ],
            "image/png": "[encoded data removed]"
          },
          "metadata": {}
        }
      ]
    },
    {
      "cell_type": "code",
      "source": [
        "# 예측값 생성\n",
        "from sklearn.metrics import accuracy_score\n",
        "\n",
        "train_pred = model.predict(train_x)\n",
        "test_pred = model.predict(test_x)\n",
        "train_single_pred = train_pred.argmax(axis=1)\n",
        "test_single_pred = test_pred.argmax(axis=1)\n",
        "logi_train_acc = accuracy_score(train_y, train_single_pred)\n",
        "logi_test_acc = accuracy_score(test_y, test_single_pred)\n",
        "print('CNN')\n",
        "print(f\"Train Accuracy: {logi_train_acc:.2f}\")\n",
        "print(f\"Test Accuracy: {logi_test_acc:.2f}\")\n"
      ],
      "metadata": {
        "colab": {
          "base_uri": "https://localhost:8080/"
        },
        "id": "yV7gIbi0MQG2",
        "outputId": "29b1d727-974e-4e75-e22a-ca9f44b996cd"
      },
      "execution_count": null,
      "outputs": [
        {
          "output_type": "stream",
          "name": "stdout",
          "text": [
            "1875/1875 [==============================] - 90s 48ms/step\n",
            "313/313 [==============================] - 15s 48ms/step\n",
            "CNN\n",
            "Train Accuracy: 0.99\n",
            "Test Accuracy: 0.99\n"
          ]
        }
      ]
    },
    {
      "cell_type": "code",
      "source": [
        "id = random.randrange(0, 10000)\n",
        "print(f\"정답: {test_y[id]}\")\n",
        "print(f\"예측: {test_single_pred[id]}\")\n",
        "plt.imshow(test_x[id])\n",
        "plt.show()"
      ],
      "metadata": {
        "colab": {
          "base_uri": "https://localhost:8080/",
          "height": 466
        },
        "id": "ck9OwZfuNM2N",
        "outputId": "13008abd-8f3b-4e91-df16-c629ff89c514"
      },
      "execution_count": null,
      "outputs": [
        {
          "output_type": "stream",
          "name": "stdout",
          "text": [
            "정답: 6\n",
            "예측: 6\n"
          ]
        },
        {
          "output_type": "display_data",
          "data": {
            "text/plain": [
              "<Figure size 640x480 with 1 Axes>"
            ],
            "image/png": "[encoded data removed]"
          },
          "metadata": {}
        }
      ]
    },
    {
      "cell_type": "code",
      "source": [],
      "metadata": {
        "id": "wSzcGKO1O3xD"
      },
      "execution_count": null,
      "outputs": []
    }
  ]
}